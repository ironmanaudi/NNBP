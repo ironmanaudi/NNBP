{
 "cells": [
  {
   "cell_type": "markdown",
   "metadata": {},
   "source": [
    "# classical neural network belief propagation\n",
    "Implementing the classical NNBP`[1]`, I implementing this by Pytorch`[2]`.  \n",
    "At first, I also give weight by a weight matrix *W_var* to the message transmit from check points to variables. As the train goes on there will give a nan outcome caused by the negative weight in *W_var*, so I clamp it under 1e-10. After training, **it turns out the loss acting like overfitting, the loss has a 1e-8 magnitude** (the plain BP give a loss/bit error rate around 0.14).  \n",
    "Also, the author and coworkers have made progress`[3]` `[4]` `[5]`. They modify their initial idea and what is worth for this work is they **remove the weight of the poterior probabilistic distribution** because the aim to add the weight is to ease the unreliable message passing from the loop. **The PPD which are solid messages and they should not be added weights**, so I remove it here.  \n",
    "Moreover, the most attention-attracting stuff in the neural-decoding community is how to prevent or release the effect of overfitting. Though NNBP has the power of easing overffing, but I have seen no mathematic prove over this. **The exploitation of the power of deep learning and generalization** obviously deserve more attention.  \n"
   ]
  },
  {
   "cell_type": "code",
   "execution_count": 2,
   "metadata": {},
   "outputs": [],
   "source": [
    "from __future__ import print_function\n",
    "import numpy as np\n",
    "import matplotlib.pyplot as plt\n",
    "import math\n",
    "import torch \n",
    "import os\n",
    "from torch.autograd import Variable\n",
    "import time\n",
    "import torch.utils.data as Data\n",
    "from torch import autograd"
   ]
  },
  {
   "cell_type": "markdown",
   "metadata": {},
   "source": [
    "### **First Part: set the hyperparameters**  \n",
    "Note that Nc is the iterations the BP algorithm will do which we set it 5."
   ]
  },
  {
   "cell_type": "code",
   "execution_count": null,
   "metadata": {},
   "outputs": [],
   "source": [
    "torch.autograd.set_detect_anomaly(True)\n",
    "BATCH_SIZE = 120\n",
    "lr = 1e-3\n",
    "Nc = 5"
   ]
  },
  {
   "cell_type": "markdown",
   "metadata": {},
   "source": [
    "### **Second Part: define the class to get the simulated received data**  \n",
    "We need to simulate the sent data which is x and get the received data y and the posterior probabilistic distribution(PPD) which we will use in the BP algorithm. The data take **a form of voltage(sine wave)** transmitting in the channel which we assume it is **an addictive Gaussian white noise (AWGN)channel** and it need modulate before transmission.  \n",
    "Here, to make it easy for computing the PPD of the received data, we would like to modulate the original 0 and 1 in the data to have a same amplitude and inverse phase, moreover, we wan to get a close result to the original paper, so we choose **the modulating function to be 0.6 - 1.2 * x** after trailing. Using the properties of the AWGN chaneel we can get the PPD.  \n",
    "Class Gen_Data use to get the simulated received data and the PPD and CustomDataset defining the dataset class."
   ]
  },
  {
   "cell_type": "code",
   "execution_count": null,
   "metadata": {},
   "outputs": [],
   "source": [
    "class Gen_Data(torch.nn.Module):\n",
    "    def __init__(self, SNR, num, batch_num):\n",
    "        super(Gen_Data, self).__init__()\n",
    "        SNR = torch.DoubleTensor(SNR).unsqueeze(0)\n",
    "        self.Sigma = ((0.36 / (10 ** (SNR / 10)) ** 0.5).repeat(1, num)).repeat(1, batch_num)\n",
    "        \n",
    "    def modulate(self, inverse, x):\n",
    "        if not inverse:\n",
    "            return 0.6 - 1.2 * x\n",
    "        else:\n",
    "            return (0.6 - x) / 1.2\n",
    "    \n",
    "    def AWGN(self, x):\n",
    "        x_prime = self.modulate(0, x)\n",
    "        noise = torch.normal(0.0, self.Sigma.t().mm(torch.ones((1, x.size()[1]), dtype = torch.float64))) #minibatch x n\n",
    "        y_prime = x_prime + noise\n",
    "        post = self.get_post(y_prime)\n",
    "        y = self.modulate(1, y_prime)\n",
    "        return y, post\n",
    "    \n",
    "    def get_post(self, x):\n",
    "        post = 2 * x.mul(1 / ((self.Sigma ** 2).t().repeat(1, x.size()[1])))\n",
    "        return post\n",
    "    \n",
    "class CustomDataset(Data.Dataset):\n",
    "    def __init__(self, dataset):\n",
    "        self.dataset = dataset\n",
    "\n",
    "    def __getitem__(self, index):\n",
    "        return self.dataset[index]\n",
    "    \n",
    "    def __len__(self):\n",
    "        return self.dataset.size()[0]"
   ]
  },
  {
   "cell_type": "markdown",
   "metadata": {},
   "source": [
    "### **Thrid Part: defining one iteration of the belief propagation**  \n",
    "Next step, we define one iteration in the belief propagation which here is one neural network layer here.  \n",
    "We **make the message passing more natural by introducing variable `H` and `thorch.where`**. Using torch.where we can make the message passing only on the exsiting edge of the Tanner graph which here is the `H` matrix. Moreover we introduce variable check to do element-wise multiplication to parameter `W_check` to keep the diagonal elements keep to be zero while training also it need to leave the off-diagnal elements unchanged.  \n",
    "Note that the iterations crray out by `[1]` are element-wise. To make advantage of Pytorch, we shall modify the formula to matrix operation. The modified equation(4) become  \n",
    "$M_{vc} =L\\cdot H^T+M_{cv}^T\\cdot (W_{check}\\bigotimes H^T)$,  \n",
    "use the trick,  \n",
    "$ln(x)=ln|x|+i\\cdot \\pi, x<0$,  \n",
    "Equation(5) become  \n",
    "$M_{cv}=2\\cdot arctanh[cos(\\pi \\cdot Coeff)\\bigotimes exp(ln|tanh(M_{cv} / 2)|)]$,  \n",
    "where `Coeff` matrix is the coefficient matrix to log the negative elements of the product of function $tanh(x / 2)$.  \n",
    "Equation(6) become  \n",
    "$M=M_{cv}^T\\cdot W_{vec}+L$.  \n",
    "As is illustrated in the NNBP paper`[1]`, in order to train the parmeters in every layer in the NNBP, we need to return the result of every layer, so we define a list *results* to store the results."
   ]
  },
  {
   "cell_type": "code",
   "execution_count": null,
   "metadata": {},
   "outputs": [],
   "source": [
    "class BPBlock(torch.nn.Module):\n",
    "    def __init__(self, H):\n",
    "        super(BPBlock, self).__init__()\n",
    "        self.H = Variable(H, requires_grad = False)\n",
    "        self.rows, self.cols = H.size()\n",
    "        self.W_check = torch.nn.Parameter((torch.ones((self.rows, self.rows), dtype = torch.float64) - \\\n",
    "                                           torch.eye(self.rows, dtype = torch.float64)))\n",
    "        self.W_vec = torch.nn.Parameter(Variable(torch.ones((self.rows, 1), dtype = torch.float64)))\n",
    "        \n",
    "    def forward(self, x):\n",
    "        L, M_check, results = x\n",
    "        H = Variable(torch.ones((M_check.size()), dtype = torch.float64)).mul(self.H)\n",
    "        check = Variable(torch.ones((self.rows, self.rows), dtype = torch.float64) - \\\n",
    "                         torch.eye(self.rows, dtype = torch.float64))\n",
    "        var = Variable(torch.ones((self.cols, self.cols), dtype = torch.float64) - \\\n",
    "                       torch.eye(self.cols, dtype = torch.float64))\n",
    "        result = M_check\n",
    "        result = torch.where(H.transpose(1, 2) == 0, result.transpose(1, 2), \\\n",
    "                             torch.matmul(result.transpose(1, 2), self.W_check.mul(check)))\n",
    "        result += torch.matmul(L, self.H.t())\n",
    "        '''\n",
    "        It is always need in BP to clamp the absolute of the product under 10 before tanh(x), so as NNBP.\n",
    "        '''\n",
    "        result = torch.clamp(result, -10, 10)\n",
    "        result = torch.where(H.transpose(1, 2) == 0, result, torch.tanh(result / 2))\n",
    "        Coeff = torch.where(result < 0, torch.ones(result.size(), dtype = torch.float64), \\\n",
    "                            torch.zeros(result.size(), dtype = torch.float64))\n",
    "        result = torch.where(H.transpose(1, 2) == 0, result, abs(result))\n",
    "        '''\n",
    "        Here we add a bias to the unconnected edge in the Tanner graph to avoid an unexpected exception in the program which will lead to\n",
    "        nan in the gradients, after log(x), we need to subtract it.\n",
    "        '''\n",
    "        result = torch.where(H.transpose(1, 2) == 0, result + 3, result)\n",
    "        result = torch.where(H.transpose(1, 2) == 0, result, torch.log(result))\n",
    "        result = torch.where(H.transpose(1, 2) == 0, result - 3, result)\n",
    "        result = torch.where(H == 0, result.transpose(1, 2), torch.matmul(result.transpose(1, 2), var))\n",
    "        result = torch.where(H == 0, result, torch.exp(result))\n",
    "        Coeff = torch.where(H == 0, Coeff.transpose(1, 2), torch.matmul(Coeff.transpose(1, 2), var))\n",
    "        result = torch.where(H == 0, result, torch.cos(math.pi * Coeff).mul(result))\n",
    "        result = torch.where(H == 0, result, torch.log((1 + result) / (1 - result)))\n",
    "        output = result\n",
    "        result = torch.matmul(output.transpose(1, 2), self.W_vec)\n",
    "        result += torch.matmul(L, Variable(torch.ones((self.cols, 1), dtype = torch.float64)))\n",
    "        result = torch.sigmoid(-1 * result)\n",
    "        '''\n",
    "        The result here will evaluate using cross entropy loss. To stabilize the product we need to clamp the result.\n",
    "        '''\n",
    "        result = torch.clamp(result, 1e-40, 1 - 1e-16)\n",
    "        results.append(result)\n",
    "        return L, output, results"
   ]
  },
  {
   "cell_type": "markdown",
   "metadata": {},
   "source": [
    "### **Fourth Part: neural network belief propagation**  \n",
    "Here we use function *_make_layer()* to define a sequential of iteration in the BP algorithm. Also we set the initial message contain in the node all to be zero correspond to the zero matrix *M_check_init*. We set the PPD of the received data to be a diagonal matrix *L*."
   ]
  },
  {
   "cell_type": "code",
   "execution_count": null,
   "metadata": {},
   "outputs": [],
   "source": [
    "class NNBP(torch.nn.Module):\n",
    "    def __init__(self, H, Nc):\n",
    "        super(NNBP, self).__init__()\n",
    "        self.H = H\n",
    "        self.rows, self.cols = H.size()\n",
    "        self.Nc = Nc\n",
    "        self.layer = self._make_layer()\n",
    "        \n",
    "    def _make_layer(self):\n",
    "        layers = []\n",
    "        for i in range(self.Nc):\n",
    "            layers.append(BPBlock(self.H))\n",
    "        return torch.nn.Sequential(*layers)\n",
    "        \n",
    "    def forward(self, x):\n",
    "        L = Variable(torch.zeros((x.size()[0], self.cols, self.cols), dtype = torch.float64))\n",
    "        for i in range(x.size()[0]):\n",
    "            L[i] = torch.diag(x[i])\n",
    "        results = []\n",
    "        M_check_init = Variable(torch.zeros((x.size()[0], self.rows, self.cols), dtype = torch.float64))\n",
    "        x = (L, M_check_init, results)\n",
    "        x = self.layer(x)\n",
    "        return x[2]"
   ]
  },
  {
   "cell_type": "markdown",
   "metadata": {},
   "source": [
    "### **Fifth Part: loss function and train**\n",
    "Here using cross entropy loss function as showed in the paper. During train we shall use *results* defined above to log the result of every layer for trainning. If not train, we shall use variable *loss_sum*  to get the total loss."
   ]
  },
  {
   "cell_type": "code",
   "execution_count": null,
   "metadata": {},
   "outputs": [],
   "source": [
    "class LossFunc(torch.nn.Module):\n",
    "    def __init__(self):\n",
    "        super(LossFunc, self).__init__()\n",
    "\n",
    "    def forward(self, result, x):\n",
    "        x = x.t()\n",
    "        loss_b = torch.log(result)\n",
    "        loss_a = torch.log(1 - result)\n",
    "        loss = (1 - x).mul(loss_a) + x.mul(loss_b)\n",
    "        loss = torch.sum(loss) / (-1 * torch.numel(loss))\n",
    "        return loss\n",
    "    \n",
    "def training(H, dataset, x, lr, train_num, train, load):\n",
    "    #step1:claim the model\n",
    "    loss_sum = 0\n",
    "    decoder = NNBP(H, Nc)\n",
    "    if load:\n",
    "        decoder.load_state_dict(torch.load('.\\model\\decoder_parameters.pkl'))\n",
    "#        for name, param in decoder.named_parameters():\n",
    "#            if param.requires_grad:\n",
    "#                print(name,torch.where(param > 0.0, torch.zeros(param.size(), dtype = torch.float64), param).to_sparse()._values())\n",
    "#                print(name,param)\n",
    "#        return 0\n",
    "\n",
    "    #step2:load data\n",
    "    torch_dataset = CustomDataset(dataset)\n",
    "    loader = Data.DataLoader(\n",
    "        dataset = torch_dataset,      # torch TensorDataset format\n",
    "        batch_size = BATCH_SIZE,      # mini batch size\n",
    "        shuffle = False,               # random shuffle for training\n",
    "        num_workers = 3,              # subprocesses for loading data\n",
    "    )\n",
    "    \n",
    "    #step3:loss func & optimizer\n",
    "    criterion = LossFunc()\n",
    "    optimizer = torch.optim.RMSprop(decoder.parameters(), lr = lr)\n",
    "\n",
    "    #step4:train\n",
    "    for epoch in range(train_num):\n",
    "        print('epoch',epoch)\n",
    "        for step, post in enumerate(loader):\n",
    "            loss = Variable(torch.zeros((1), dtype = torch.float64))\n",
    "            post = Variable(post).float()\n",
    "            optimizer.zero_grad()\n",
    "            results = decoder(post)\n",
    "            if train:\n",
    "                for result in results:\n",
    "                    loss += criterion(result, x)\n",
    "                loss /= len(results)\n",
    "                loss.backward()\n",
    "#                for name, param in decoder.named_parameters():\n",
    "#                    if param.requires_grad:\n",
    "#                        print(name,param.grad)                                \n",
    "                optimizer.step()\n",
    "                for p in decoder.parameters():\n",
    "                    p.data.clamp_(1e-10)\n",
    "            else:\n",
    "                loss_sum += criterion(results[len(results) - 1], x)\n",
    "    if train:\n",
    "        torch.save(decoder.state_dict(), '.\\model\\decoder_parameters.pkl')\n",
    "        return loss\n",
    "    else: return loss_sum"
   ]
  },
  {
   "cell_type": "markdown",
   "metadata": {},
   "source": [
    "### **Sixth Part: training the neural network**\n",
    "Here I show three different model, the middle one is what we use to compare the performance between BP and NNBP using BCH(63,45) code."
   ]
  },
  {
   "cell_type": "code",
   "execution_count": null,
   "metadata": {},
   "outputs": [],
   "source": [
    "if __name__ == '__main__':\n",
    "    '''\n",
    "    classical LDPC(no training)\n",
    "    '''\n",
    "#    num = 20\n",
    "#    batch_num = 50\n",
    "#    SNR = [0.1,0.2,0.3,0.4,0.5,0.6]\n",
    "#    H_LDPC = torch.DoubleTensor([[1,1,1,0,0,0,1,0,0,0,0],\n",
    "#                           [0,0,0,1,1,1,0,1,0,0,0],\n",
    "#                           [1,0,0,1,0,0,0,0,1,0,0],\n",
    "#                           [0,1,0,0,1,0,0,0,0,1,0],\n",
    "#                           [0,0,1,0,0,1,0,0,0,0,1]])\n",
    "#    data = Gen_Data(SNR, num, batch_num)\n",
    "#    x = torch.DoubleTensor([[0,1,0,0,0,0,1,0,0,1,0]])\n",
    "#    y, post = data.AWGN(x)\n",
    "#    loss = training(H_LDPC, post, x, lr, 1, 0, 0)\n",
    "#    print(loss / batch_num)\n",
    "    '''\n",
    "    classical HDPC,记录loss\n",
    "    '''\n",
    "    num = 20\n",
    "    batch_num = 30\n",
    "    train_num = 100\n",
    "    train = 1\n",
    "    load = 0\n",
    "    SNR = [0.1,0.2,0.3,0.4,0.5,0.6] #signal noise rate\n",
    "    H_BCH = torch.from_numpy(np.loadtxt('BCH(63,45).txt'))\n",
    "    data = Gen_Data(SNR, num, batch_num)\n",
    "    x = torch.zeros((1, 63), dtype = torch.float64)\n",
    "    y, post = data.AWGN(x)\n",
    "    loss = training(H_BCH, post, x, lr, train_num, train, load)\n",
    "    print(loss / batch_num)\n",
    "    '''\n",
    "    检测结果\n",
    "    '''\n",
    "#    num = 20\n",
    "#    batch_num = 20\n",
    "#    SNR = [0.1,0.2,0.3,0.4,0.5,0.6]\n",
    "#    H_BCH = torch.from_numpy(np.loadtxt('BCH(63,45).txt'))\n",
    "#    data = Gen_Data(SNR, num, batch_num)\n",
    "#    x = torch.zeros((1, 63), dtype = torch.float64)\n",
    "#    y, post = data.AWGN(x)\n",
    "#    loss = training(H_BCH, post, x, lr, 1, 0, 1)\n",
    "#    print(loss / batch_num)"
   ]
  },
  {
   "cell_type": "markdown",
   "metadata": {},
   "source": [
    "### **Seventh Part: results and evaluation**  \n",
    "Here shows four models' results. The models are plain BP, standard NNBP which is nat having the parameters assigned to PPD, NNBP as showned in `[1]` and NNBP with parameters W_var which is assign to the second step of message passing.  \n",
    "We can see the extrame enhancement of performance as more parameters added to the model. The reason why my results outperform these of `[1]` may lie in the modulation been used."
   ]
  },
  {
   "cell_type": "code",
   "execution_count": 5,
   "metadata": {},
   "outputs": [
    {
     "data": {
      "image/png": "[encoded data removed]",
      "text/plain": [
       "<Figure size 576x288 with 1 Axes>"
      ]
     },
     "metadata": {},
     "output_type": "display_data"
    },
    {
     "data": {
      "image/png": "[encoded data removed]",
      "text/plain": [
       "<Figure size 432x288 with 1 Axes>"
      ]
     },
     "metadata": {},
     "output_type": "display_data"
    }
   ],
   "source": [
    "import numpy as np\n",
    "import matplotlib.pyplot as plt\n",
    "%matplotlib inline\n",
    "\n",
    "x = [1, 2, 3, 4, 5, 6]\n",
    "W_var = [0.0025, 2.9790e-05, 9.9648e-15, 6.6909e-17, 4.3518e-19, 3.4364e-20]\n",
    "Standard = [0.0614 ,0.0221 ,0.0060 ,0.0010 ,7.9001e-05 ,2.8113e-05]\n",
    "BP = [0.1168, 0.0628, 0.0236, 0.0045, 0.0013, 0.0001]\n",
    "B = [0.0073, 0.0029, 0.0029, 0.0001, 3.8960e-05, 1.4266e-08]\n",
    "plt.figure(figsize=(8,4))\n",
    "plt.plot(x, Standard, color = 'red', label = 'Standard NNBP')\n",
    "plt.plot(x, BP,  color = 'skyblue', label = 'plain BP')\n",
    "plt.plot(x, B, color = 'blue', label = 'NNBP')\n",
    "plt.xlabel(\"Eb/N0[dB]\")\n",
    "plt.ylabel(\"BER(Nit Error Rate)\")\n",
    "plt.title(\"BER results for BCH(63,45)\")\n",
    "plt.yscale('log') \n",
    "plt.legend()\n",
    "plt.show()\n",
    "\n",
    "plt.plot(x, W_var, color = 'green', label = 'NNBP with W_var')\n",
    "plt.plot(x, Standard, color = 'red', label = 'Standard NNBP')\n",
    "plt.plot(x, BP,  color = 'skyblue', label = 'plain BP')\n",
    "plt.plot(x, B, color = 'blue', label = 'NNBP')\n",
    "plt.xlabel(\"Eb/N0[dB]\")\n",
    "plt.ylabel(\"BER(Nit Error Rate)\")\n",
    "plt.title(\"BER results for BCH(63,45)\")\n",
    "plt.yscale('log') \n",
    "plt.legend()\n",
    "plt.show()"
   ]
  },
  {
   "cell_type": "markdown",
   "metadata": {},
   "source": [
    "### **Reference**"
   ]
  },
  {
   "cell_type": "markdown",
   "metadata": {},
   "source": [
    "`[1]`:  E. Nachmani, Y. Be’ery, and D. Burshtein, “Learning to decode linear codes using deep learning,” in 54’th Annual Allerton Conf. On Communication, Control and Computing, September 2016.  \n",
    "`[2]`: https://pytorch.org/  \n",
    "`[3]`:  E. Nachmani, E. Marciano, D. Burshtein, and Y. Be’ery, “RNN decoding of linear block codes,” arXiv preprint arXiv:1702.07560, 2017.  \n",
    "`[4]`:  E. Nachmani, Y. Bachar, E. Marciano, D. Burshtein, and Y. Beery, “Near maximum likelihood decoding with deep learning,” in The International Zurich Seminar on Information and Communication, 2018, pp. 40–44  \n",
    "`[5]`:  E. Nachmani, E. Marciano, L. Lugosch, W. J. Gross, D. Burshtein, and Y. Be’ery, “Deep learning methods for improved decoding of linear codes,” IEEE Journal of Selected Topics in Signal Processing, 2018."
   ]
  }
 ],
 "metadata": {
  "kernelspec": {
   "display_name": "Python 3",
   "language": "python",
   "name": "python3"
  },
  "language_info": {
   "codemirror_mode": {
    "name": "ipython",
    "version": 3
   },
   "file_extension": ".py",
   "mimetype": "text/x-python",
   "name": "python",
   "nbconvert_exporter": "python",
   "pygments_lexer": "ipython3",
   "version": "3.6.5"
  }
 },
 "nbformat": 4,
 "nbformat_minor": 2
}
