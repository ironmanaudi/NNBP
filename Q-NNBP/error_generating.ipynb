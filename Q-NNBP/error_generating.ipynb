{
 "cells": [
  {
   "cell_type": "markdown",
   "metadata": {},
   "source": [
    "# neural network belief propagation decode quantum code: database generating  \n",
    "This note illustrate database and relate information generating of `[1]`. Generate the 2D Toric code syndrome data and posterior probabilistic distribution(PPD) for `[1]`."
   ]
  },
  {
   "cell_type": "code",
   "execution_count": 1,
   "metadata": {},
   "outputs": [],
   "source": [
    "import math\n",
    "import random\n",
    "import numpy as np\n",
    "import matplotlib.pyplot as plt\n",
    "import torch \n",
    "import os\n",
    "import sys\n",
    "\n",
    "np.set_printoptions(threshold = 1e6)"
   ]
  },
  {
   "cell_type": "markdown",
   "metadata": {},
   "source": [
    "### **First Part: generate the parity check matrix for 2D Toric code**"
   ]
  },
  {
   "cell_type": "code",
   "execution_count": null,
   "metadata": {},
   "outputs": [],
   "source": [
    "def generate_PCM(k, L):\n",
    "    j = 0\n",
    "    H = np.zeros([(2 * L * L - 2), (4 * L * L)])\n",
    "    for i in range(int(k / 2)):\n",
    "        H[i][j] = H[i][j + L] = H[i][(j + 2 * L) % (2 * L * L)] = 1\n",
    "        H[i + int(k / 2)][2 * L * L + j] = H[i + int(k / 2)][2 * L * L + j + L] \\\n",
    "        = H[i + int(k / 2)][2 * L * L + (j - L) % (2 * L * L)]  = 1\n",
    "        if (j + L + 1) % L == 0:\n",
    "            H[i][j + 1] = 1\n",
    "        else:\n",
    "            H[i][j + L + 1] = 1\n",
    "        if j % L != 0:\n",
    "            H[i + int(k / 2)][2 * L * L + j - 1] = 1\n",
    "        else:\n",
    "            H[i + int(k / 2)][2 * L * L + (j - 1 + L)] = 1\n",
    "        if (j + 1) % L == 0:\n",
    "            j = j + L\n",
    "        j += 1\n",
    "    return H"
   ]
  },
  {
   "cell_type": "markdown",
   "metadata": {},
   "source": [
    "### **Second Part: generate the H_prep matrix**"
   ]
  },
  {
   "cell_type": "code",
   "execution_count": null,
   "metadata": {},
   "outputs": [],
   "source": [
    "class H_Prep():\n",
    "    def __init__(self, H):\n",
    "        self.H = H\n",
    "        self.rows = int(H.shape[0])\n",
    "        self.cols = int(H.shape[1])\n",
    "        self.H_prep = H\n",
    "        \n",
    "    def Get_Identity(self):\n",
    "        H_prime = self.H\n",
    "        exchange = []\n",
    "        for i in range(self.rows):\n",
    "            if H_prime[i, i] != 1:\n",
    "                for j in range(i, self.cols):\n",
    "                    if H_prime[i, j] == 1:\n",
    "                        H_prime[:, [i, j]] = H_prime[:, [j, i]]\n",
    "                        exchange.append((i,j))\n",
    "        exchange.reverse()\n",
    "        return H_prime, exchange"
   ]
  },
  {
   "cell_type": "markdown",
   "metadata": {},
   "source": [
    "### **Thrid Part: **"
   ]
  },
  {
   "cell_type": "code",
   "execution_count": null,
   "metadata": {},
   "outputs": [],
   "source": [
    "    def get_H_Prep(self):\n",
    "        self.H_prep, exchange = self.Get_Identity()\n",
    "        self.H_prep = np.concatenate([self.H_prep[:, self.rows : self.cols], np.eye(self.cols - self.rows)], axis = 0)\n",
    "        for item in exchange:\n",
    "            self.H_prep[[item[0], item[1]], :] = self.H_prep[[item[1], item[0]], :]\n",
    "        self.H_prep = np.concatenate([self.H_prep[int(self.cols / 2) : self.cols, :], \\\n",
    "                                                  self.H_prep[0 : int(self.cols / 2), :]], axis = 0)\n",
    "        self.H_prep = self.H_prep.T\n",
    "        return self.H_prep\n",
    "    \n",
    "    def symplectic_product(a, b):\n",
    "        rows, cols = a.shape\n",
    "        return np.dot(a, np.concatenate([b[:, int(cols / 2) : cols], b[:, 0 : int(cols / 2)]], axis = 1).T) % 2\n",
    "    \n",
    "    def get_logical(self):\n",
    "        self.H_prep = self.get_H_Prep()\n",
    "        rows, cols = self.H_prep.shape\n",
    "        logical = []\n",
    "        for i in range(rows):\n",
    "            if self.H_prep[i, :] not in logical:\n",
    "                for j in range(i + 1, rows):\n",
    "                    if self.H_prep[j, :] not in logical:\n",
    "                        if self.symplectic_product(self.H_prep[i, :], self.H_prep[j, :]) == 1:\n",
    "                            logical.append(self.H_prep[i, :])\n",
    "                            logical.append(self.H_prep[j, :])\n",
    "                            for k in range(j + 1, rows):\n",
    "                                if self.H_prep[k, :] not in logical:\n",
    "                                    if self.symplectic_product(self.H_prep[i, :], self.H_prep[k, :]) == 1:\n",
    "                                        self.H_prep[k, :] += self.H_prep[j, :]\n",
    "                            for m in range(i + 1, rows):\n",
    "                                if self.H_prep[m, :] not in logical:\n",
    "                                    if self.symplectic_product(self.H_prep[j, :], self.H_prep[m, :]) == 1:\n",
    "                                        self.H_prep[m, :] += self.H_prep[i, :]\n",
    "                            break\n",
    "        logical = np.array(logical)\n",
    "        return logical"
   ]
  },
  {
   "cell_type": "markdown",
   "metadata": {},
   "source": [
    "### **Forth Part: generating the syndrome and corresponding PPD data**"
   ]
  },
  {
   "cell_type": "code",
   "execution_count": null,
   "metadata": {},
   "outputs": [],
   "source": [
    "def gen_syn(P, L, H, run):\n",
    "    dataset = []\n",
    "    err = np.zeros((1, 4 * L * L))\n",
    "    rows, cols = H.shape\n",
    "    for i in range(run):\n",
    "        p = random.sample(P, 1)[0]\n",
    "        prior = np.full((1, 4 * L * L), math.log((1 - p) / p))\n",
    "        for j in range(2 * L * L):\n",
    "            a, b = np.random.random(), np.random.random()\n",
    "            if a < p:\n",
    "                err[0, j] = 1 #X error\n",
    "            if b < p:\n",
    "                err[0, j + 2 * L * L] = 1 #Z error\n",
    "        syn = (np.dot(H, err.T) % 2).T\n",
    "        syn = np.concatenate([syn, np.zeros((1, cols - rows))], axis = 1)\n",
    "        dataset.append(torch.from_numpy(np.concatenate([prior, syn], axis = 0)))\n",
    "        dataset.append(torch.from_numpy(err))\n",
    "        err = np.zeros((1, 4 * L * L))\n",
    "    return dataset"
   ]
  },
  {
   "cell_type": "markdown",
   "metadata": {},
   "source": [
    "### **Ffith Part: testing the program**"
   ]
  },
  {
   "cell_type": "code",
   "execution_count": null,
   "metadata": {},
   "outputs": [],
   "source": [
    "if __name__ == '__main__':\n",
    "    L = 12\n",
    "    H = generate_PCM(2 * L * L - 2, L)\n",
    "    P = [0.01]\n",
    "    dataset = gen_syn(P, L, H, 120000)\n",
    "    print(sys.getsizeof(dataset))"
   ]
  },
  {
   "cell_type": "markdown",
   "metadata": {},
   "source": [
    "### **Reference**"
   ]
  },
  {
   "cell_type": "markdown",
   "metadata": {},
   "source": [
    "`[1]`: Ye-Hua Liu and David Poulin, “Neural belief-propagation decoders for quantum error-correcting codes,” arXiv preprint arXiv:1811.07835 (2018).  "
   ]
  }
 ],
 "metadata": {
  "kernelspec": {
   "display_name": "Python 3",
   "language": "python",
   "name": "python3"
  },
  "language_info": {
   "codemirror_mode": {
    "name": "ipython",
    "version": 3
   },
   "file_extension": ".py",
   "mimetype": "text/x-python",
   "name": "python",
   "nbconvert_exporter": "python",
   "pygments_lexer": "ipython3",
   "version": "3.6.5"
  }
 },
 "nbformat": 4,
 "nbformat_minor": 2
}
